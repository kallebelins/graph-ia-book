{
  "cells": [
    {
      "cell_type": "markdown",
      "metadata": {},
      "source": [
        "# Template de Relatório por Capítulo\n",
        "\n",
        "Preencha o número do capítulo e execute as células para carregar e visualizar os resultados do diretório `../results`.\n",
        "\n",
        "- Capítulo: <ins>XX</ins>\n",
        "- Modo: Chain vs Graph (A/B)\n",
        "- Métricas: média, p95, p99; taxa de sucesso quando aplicável\n",
        "\n",
        "Observação: este notebook assume que você já executou `Program` para gerar arquivos `*-summary.json`.\n"
      ]
    }
  ],
  "metadata": {
    "language_info": {
      "name": "python"
    }
  },
  "nbformat": 4,
  "nbformat_minor": 2
}
